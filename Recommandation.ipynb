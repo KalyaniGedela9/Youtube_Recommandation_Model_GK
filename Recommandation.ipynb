{
 "cells": [
  {
   "cell_type": "code",
   "execution_count": 3,
   "metadata": {},
   "outputs": [],
   "source": [
    "from nltk.corpus import wordnet as wn"
   ]
  },
  {
   "cell_type": "code",
   "execution_count": 2,
   "metadata": {},
   "outputs": [
    {
     "name": "stdout",
     "output_type": "stream",
     "text": [
      "Collecting nltk\n",
      "  Downloading nltk-3.6.7-py3-none-any.whl (1.5 MB)\n",
      "Collecting regex>=2021.8.3\n",
      "  Downloading regex-2023.8.8-cp36-cp36m-win_amd64.whl (280 kB)\n",
      "Collecting tqdm\n",
      "  Downloading tqdm-4.64.1-py2.py3-none-any.whl (78 kB)\n",
      "Collecting joblib\n",
      "  Downloading joblib-1.1.1-py2.py3-none-any.whl (309 kB)\n",
      "Collecting click\n",
      "  Downloading click-8.0.4-py3-none-any.whl (97 kB)\n",
      "Collecting importlib-metadata\n",
      "  Downloading importlib_metadata-4.8.3-py3-none-any.whl (17 kB)\n",
      "Requirement already satisfied: colorama in c:\\users\\mypc\\.conda\\envs\\youtube_env\\lib\\site-packages (from click->nltk) (0.4.5)\n",
      "Collecting zipp>=0.5\n",
      "  Downloading zipp-3.6.0-py3-none-any.whl (5.3 kB)\n",
      "Collecting typing-extensions>=3.6.4\n",
      "  Downloading typing_extensions-4.1.1-py3-none-any.whl (26 kB)\n",
      "Collecting importlib-resources\n",
      "  Downloading importlib_resources-5.4.0-py3-none-any.whl (28 kB)\n",
      "Installing collected packages: zipp, typing-extensions, importlib-resources, importlib-metadata, tqdm, regex, joblib, click, nltk\n",
      "Successfully installed click-8.0.4 importlib-metadata-4.8.3 importlib-resources-5.4.0 joblib-1.1.1 nltk-3.6.7 regex-2023.8.8 tqdm-4.64.1 typing-extensions-4.1.1 zipp-3.6.0\n",
      "Note: you may need to restart the kernel to use updated packages.\n"
     ]
    }
   ],
   "source": [
    "pip install nltk"
   ]
  },
  {
   "cell_type": "code",
   "execution_count": 10,
   "metadata": {},
   "outputs": [],
   "source": [
    "import pandas as pd\n",
    "from sklearn.utils import shuffle\n",
    "from surprise import Dataset,Reader,SVD\n",
    "from surprise.model_selection import train_test_split\n",
    "from surprise import accuracy"
   ]
  },
  {
   "cell_type": "code",
   "execution_count": 5,
   "metadata": {},
   "outputs": [
    {
     "name": "stdout",
     "output_type": "stream",
     "text": [
      "Collecting pandas\n",
      "  Downloading pandas-1.1.5-cp36-cp36m-win_amd64.whl (8.7 MB)\n",
      "Collecting numpy>=1.15.4\n",
      "  Downloading numpy-1.19.5-cp36-cp36m-win_amd64.whl (13.2 MB)\n",
      "Collecting pytz>=2017.2\n",
      "  Downloading pytz-2025.2-py2.py3-none-any.whl (509 kB)\n",
      "Requirement already satisfied: python-dateutil>=2.7.3 in c:\\users\\mypc\\.conda\\envs\\youtube_env\\lib\\site-packages (from pandas) (2.8.2)\n",
      "Requirement already satisfied: six>=1.5 in c:\\users\\mypc\\.conda\\envs\\youtube_env\\lib\\site-packages (from python-dateutil>=2.7.3->pandas) (1.16.0)\n",
      "Installing collected packages: pytz, numpy, pandas\n",
      "Successfully installed numpy-1.19.5 pandas-1.1.5 pytz-2025.2\n",
      "Note: you may need to restart the kernel to use updated packages.\n"
     ]
    }
   ],
   "source": [
    "pip install pandas"
   ]
  },
  {
   "cell_type": "code",
   "execution_count": 7,
   "metadata": {},
   "outputs": [
    {
     "name": "stdout",
     "output_type": "stream",
     "text": [
      "Collecting sklearn\n",
      "  Downloading sklearn-0.0.post12.tar.gz (2.6 kB)\n",
      "  Downloading sklearn-0.0.post11.tar.gz (3.6 kB)\n",
      "  Downloading sklearn-0.0.post10.tar.gz (3.6 kB)\n",
      "  Downloading sklearn-0.0.post9.tar.gz (3.6 kB)\n",
      "  Downloading sklearn-0.0.post7.tar.gz (3.6 kB)\n",
      "  Downloading sklearn-0.0.post5.tar.gz (3.7 kB)\n",
      "  Downloading sklearn-0.0.post4.tar.gz (3.6 kB)\n",
      "  Downloading sklearn-0.0.post1.tar.gz (3.6 kB)\n",
      "  Downloading sklearn-0.0.tar.gz (1.1 kB)\n",
      "Collecting scikit-learn\n",
      "  Downloading scikit_learn-0.24.2-cp36-cp36m-win_amd64.whl (6.8 MB)\n",
      "Collecting scipy>=0.19.1\n",
      "  Downloading scipy-1.5.4-cp36-cp36m-win_amd64.whl (31.2 MB)\n",
      "Collecting threadpoolctl>=2.0.0\n",
      "  Downloading threadpoolctl-3.1.0-py3-none-any.whl (14 kB)\n",
      "Requirement already satisfied: numpy>=1.13.3 in c:\\users\\mypc\\.conda\\envs\\youtube_env\\lib\\site-packages (from scikit-learn->sklearn) (1.19.5)\n",
      "Requirement already satisfied: joblib>=0.11 in c:\\users\\mypc\\.conda\\envs\\youtube_env\\lib\\site-packages (from scikit-learn->sklearn) (1.1.1)\n",
      "Building wheels for collected packages: sklearn\n",
      "  Building wheel for sklearn (setup.py): started\n",
      "  Building wheel for sklearn (setup.py): finished with status 'done'\n",
      "  Created wheel for sklearn: filename=sklearn-0.0-py2.py3-none-any.whl size=1310 sha256=0efb8a8b1dcea4fbbea63bc58b1bc13f1748ff3b401102256fc39310cfede96a\n",
      "  Stored in directory: c:\\users\\mypc\\appdata\\local\\pip\\cache\\wheels\\23\\9d\\42\\5ec745cbbb17517000a53cecc49d6a865450d1f5cb16dc8a9c\n",
      "Successfully built sklearn\n",
      "Installing collected packages: threadpoolctl, scipy, scikit-learn, sklearn\n",
      "Successfully installed scikit-learn-0.24.2 scipy-1.5.4 sklearn-0.0 threadpoolctl-3.1.0\n",
      "Note: you may need to restart the kernel to use updated packages.\n"
     ]
    },
    {
     "name": "stderr",
     "output_type": "stream",
     "text": [
      "    ERROR: Command errored out with exit status 1:\n",
      "     command: 'c:\\Users\\MYPC\\.conda\\envs\\youtube_env\\python.exe' -c 'import io, os, sys, setuptools, tokenize; sys.argv[0] = '\"'\"'C:\\\\Users\\\\MYPC\\\\AppData\\\\Local\\\\Temp\\\\pip-install-qvjkej05\\\\sklearn_cbd6b6596fdb4e3da1dd248af2d8eb20\\\\setup.py'\"'\"'; __file__='\"'\"'C:\\\\Users\\\\MYPC\\\\AppData\\\\Local\\\\Temp\\\\pip-install-qvjkej05\\\\sklearn_cbd6b6596fdb4e3da1dd248af2d8eb20\\\\setup.py'\"'\"';f = getattr(tokenize, '\"'\"'open'\"'\"', open)(__file__) if os.path.exists(__file__) else io.StringIO('\"'\"'from setuptools import setup; setup()'\"'\"');code = f.read().replace('\"'\"'\\r\\n'\"'\"', '\"'\"'\\n'\"'\"');f.close();exec(compile(code, __file__, '\"'\"'exec'\"'\"'))' egg_info --egg-base 'C:\\Users\\MYPC\\AppData\\Local\\Temp\\pip-pip-egg-info-6b6h0c75'\n",
      "         cwd: C:\\Users\\MYPC\\AppData\\Local\\Temp\\pip-install-qvjkej05\\sklearn_cbd6b6596fdb4e3da1dd248af2d8eb20\\\n",
      "    Complete output (15 lines):\n",
      "    The 'sklearn' PyPI package is deprecated, use 'scikit-learn'\n",
      "    rather than 'sklearn' for pip commands.\n",
      "    \n",
      "    Here is how to fix this error in the main use cases:\n",
      "    - use 'pip install scikit-learn' rather than 'pip install sklearn'\n",
      "    - replace 'sklearn' by 'scikit-learn' in your pip requirements files\n",
      "      (requirements.txt, setup.py, setup.cfg, Pipfile, etc ...)\n",
      "    - if the 'sklearn' package is used by one of your dependencies,\n",
      "      it would be great if you take some time to track which package uses\n",
      "      'sklearn' instead of 'scikit-learn' and report it to their issue tracker\n",
      "    - as a last resort, set the environment variable\n",
      "      SKLEARN_ALLOW_DEPRECATED_SKLEARN_PACKAGE_INSTALL=True to avoid this error\n",
      "    \n",
      "    More information is available at\n",
      "    https://github.com/scikit-learn/sklearn-pypi-package\n",
      "    ----------------------------------------\n",
      "WARNING: Discarding https://files.pythonhosted.org/packages/46/1c/395a83ee7b2d2ad7a05b453872053d41449564477c81dc356f720b16eac4/sklearn-0.0.post12.tar.gz#sha256=54cff9e20839b7b202321178228af4d9388bedf78425d9299fd9ee170d68802e (from https://pypi.org/simple/sklearn/). Command errored out with exit status 1: python setup.py egg_info Check the logs for full command output.\n",
      "    ERROR: Command errored out with exit status 1:\n",
      "     command: 'c:\\Users\\MYPC\\.conda\\envs\\youtube_env\\python.exe' -c 'import io, os, sys, setuptools, tokenize; sys.argv[0] = '\"'\"'C:\\\\Users\\\\MYPC\\\\AppData\\\\Local\\\\Temp\\\\pip-install-qvjkej05\\\\sklearn_a8e3e66f021d4ac8a23de0340205b4fc\\\\setup.py'\"'\"'; __file__='\"'\"'C:\\\\Users\\\\MYPC\\\\AppData\\\\Local\\\\Temp\\\\pip-install-qvjkej05\\\\sklearn_a8e3e66f021d4ac8a23de0340205b4fc\\\\setup.py'\"'\"';f = getattr(tokenize, '\"'\"'open'\"'\"', open)(__file__) if os.path.exists(__file__) else io.StringIO('\"'\"'from setuptools import setup; setup()'\"'\"');code = f.read().replace('\"'\"'\\r\\n'\"'\"', '\"'\"'\\n'\"'\"');f.close();exec(compile(code, __file__, '\"'\"'exec'\"'\"'))' egg_info --egg-base 'C:\\Users\\MYPC\\AppData\\Local\\Temp\\pip-pip-egg-info-p4h4czfl'\n",
      "         cwd: C:\\Users\\MYPC\\AppData\\Local\\Temp\\pip-install-qvjkej05\\sklearn_a8e3e66f021d4ac8a23de0340205b4fc\\\n",
      "    Complete output (18 lines):\n",
      "    The 'sklearn' PyPI package is deprecated, use 'scikit-learn'\n",
      "    rather than 'sklearn' for pip commands.\n",
      "    \n",
      "    Here is how to fix this error in the main use cases:\n",
      "    - use 'pip install scikit-learn' rather than 'pip install sklearn'\n",
      "    - replace 'sklearn' by 'scikit-learn' in your pip requirements files\n",
      "      (requirements.txt, setup.py, setup.cfg, Pipfile, etc ...)\n",
      "    - if the 'sklearn' package is used by one of your dependencies,\n",
      "      it would be great if you take some time to track which package uses\n",
      "      'sklearn' instead of 'scikit-learn' and report it to their issue tracker\n",
      "    - as a last resort, set the environment variable\n",
      "      SKLEARN_ALLOW_DEPRECATED_SKLEARN_PACKAGE_INSTALL=True to avoid this error\n",
      "    \n",
      "    More information is available at\n",
      "    https://github.com/scikit-learn/sklearn-pypi-package\n",
      "    \n",
      "    If the previous advice does not cover your use case, feel free to report it at\n",
      "    https://github.com/scikit-learn/sklearn-pypi-package/issues/new\n",
      "    ----------------------------------------\n",
      "WARNING: Discarding https://files.pythonhosted.org/packages/a4/0b/d1c703256cf293be77b7db44dbef62251fe02a97d0bef981f7120b0b0c0f/sklearn-0.0.post11.tar.gz#sha256=af035c4f0b970b7fc2d3856079aa1aa1032df3d7f65048a9d87114abf13c4629 (from https://pypi.org/simple/sklearn/). Command errored out with exit status 1: python setup.py egg_info Check the logs for full command output.\n",
      "    ERROR: Command errored out with exit status 1:\n",
      "     command: 'c:\\Users\\MYPC\\.conda\\envs\\youtube_env\\python.exe' -c 'import io, os, sys, setuptools, tokenize; sys.argv[0] = '\"'\"'C:\\\\Users\\\\MYPC\\\\AppData\\\\Local\\\\Temp\\\\pip-install-qvjkej05\\\\sklearn_26c05086623d4520a96ad3fb09ce9d03\\\\setup.py'\"'\"'; __file__='\"'\"'C:\\\\Users\\\\MYPC\\\\AppData\\\\Local\\\\Temp\\\\pip-install-qvjkej05\\\\sklearn_26c05086623d4520a96ad3fb09ce9d03\\\\setup.py'\"'\"';f = getattr(tokenize, '\"'\"'open'\"'\"', open)(__file__) if os.path.exists(__file__) else io.StringIO('\"'\"'from setuptools import setup; setup()'\"'\"');code = f.read().replace('\"'\"'\\r\\n'\"'\"', '\"'\"'\\n'\"'\"');f.close();exec(compile(code, __file__, '\"'\"'exec'\"'\"'))' egg_info --egg-base 'C:\\Users\\MYPC\\AppData\\Local\\Temp\\pip-pip-egg-info-_sg90v9u'\n",
      "         cwd: C:\\Users\\MYPC\\AppData\\Local\\Temp\\pip-install-qvjkej05\\sklearn_26c05086623d4520a96ad3fb09ce9d03\\\n",
      "    Complete output (18 lines):\n",
      "    The 'sklearn' PyPI package is deprecated, use 'scikit-learn'\n",
      "    rather than 'sklearn' for pip commands.\n",
      "    \n",
      "    Here is how to fix this error in the main use cases:\n",
      "    - use 'pip install scikit-learn' rather than 'pip install sklearn'\n",
      "    - replace 'sklearn' by 'scikit-learn' in your pip requirements files\n",
      "      (requirements.txt, setup.py, setup.cfg, Pipfile, etc ...)\n",
      "    - if the 'sklearn' package is used by one of your dependencies,\n",
      "      it would be great if you take some time to track which package uses\n",
      "      'sklearn' instead of 'scikit-learn' and report it to their issue tracker\n",
      "    - as a last resort, set the environment variable\n",
      "      SKLEARN_ALLOW_DEPRECATED_SKLEARN_PACKAGE_INSTALL=True to avoid this error\n",
      "    \n",
      "    More information is available at\n",
      "    https://github.com/scikit-learn/sklearn-pypi-package\n",
      "    \n",
      "    If the previous advice does not cover your use case, feel free to report it at\n",
      "    https://github.com/scikit-learn/sklearn-pypi-package/issues/new\n",
      "    ----------------------------------------\n",
      "WARNING: Discarding https://files.pythonhosted.org/packages/b9/0e/b2a4cfaa9e12b9ca4c71507bc26d2c99d75de172c0088c9835a98cf146ff/sklearn-0.0.post10.tar.gz#sha256=d4cd5a2e64b3caaf82cd5e33c46884dfeec5ebf991710d9faeb4fe81cadb3ba6 (from https://pypi.org/simple/sklearn/). Command errored out with exit status 1: python setup.py egg_info Check the logs for full command output.\n",
      "    ERROR: Command errored out with exit status 1:\n",
      "     command: 'c:\\Users\\MYPC\\.conda\\envs\\youtube_env\\python.exe' -c 'import io, os, sys, setuptools, tokenize; sys.argv[0] = '\"'\"'C:\\\\Users\\\\MYPC\\\\AppData\\\\Local\\\\Temp\\\\pip-install-qvjkej05\\\\sklearn_adde0b31aec649b697800e1d128ab7f4\\\\setup.py'\"'\"'; __file__='\"'\"'C:\\\\Users\\\\MYPC\\\\AppData\\\\Local\\\\Temp\\\\pip-install-qvjkej05\\\\sklearn_adde0b31aec649b697800e1d128ab7f4\\\\setup.py'\"'\"';f = getattr(tokenize, '\"'\"'open'\"'\"', open)(__file__) if os.path.exists(__file__) else io.StringIO('\"'\"'from setuptools import setup; setup()'\"'\"');code = f.read().replace('\"'\"'\\r\\n'\"'\"', '\"'\"'\\n'\"'\"');f.close();exec(compile(code, __file__, '\"'\"'exec'\"'\"'))' egg_info --egg-base 'C:\\Users\\MYPC\\AppData\\Local\\Temp\\pip-pip-egg-info-r37npdb8'\n",
      "         cwd: C:\\Users\\MYPC\\AppData\\Local\\Temp\\pip-install-qvjkej05\\sklearn_adde0b31aec649b697800e1d128ab7f4\\\n",
      "    Complete output (18 lines):\n",
      "    The 'sklearn' PyPI package is deprecated, use 'scikit-learn'\n",
      "    rather than 'sklearn' for pip commands.\n",
      "    \n",
      "    Here is how to fix this error in the main use cases:\n",
      "    - use 'pip install scikit-learn' rather than 'pip install sklearn'\n",
      "    - replace 'sklearn' by 'scikit-learn' in your pip requirements files\n",
      "      (requirements.txt, setup.py, setup.cfg, Pipfile, etc ...)\n",
      "    - if the 'sklearn' package is used by one of your dependencies,\n",
      "      it would be great if you take some time to track which package uses\n",
      "      'sklearn' instead of 'scikit-learn' and report it to their issue tracker\n",
      "    - as a last resort, set the environment variable\n",
      "      SKLEARN_ALLOW_DEPRECATED_SKLEARN_PACKAGE_INSTALL=True to avoid this error\n",
      "    \n",
      "    More information is available at\n",
      "    https://github.com/scikit-learn/sklearn-pypi-package\n",
      "    \n",
      "    If the previous advice does not cover your use case, feel free to report it at\n",
      "    https://github.com/scikit-learn/sklearn-pypi-package/issues/new\n",
      "    ----------------------------------------\n",
      "WARNING: Discarding https://files.pythonhosted.org/packages/28/86/207a003339023247fef1bb5bc9f5093140d17294b2f6d15bfcd4885e469e/sklearn-0.0.post9.tar.gz#sha256=1ff5864cf30489ee48a014fe8f4320d7bb59592392a4ef52ae9d7a37942615ac (from https://pypi.org/simple/sklearn/). Command errored out with exit status 1: python setup.py egg_info Check the logs for full command output.\n",
      "    ERROR: Command errored out with exit status 1:\n",
      "     command: 'c:\\Users\\MYPC\\.conda\\envs\\youtube_env\\python.exe' -c 'import io, os, sys, setuptools, tokenize; sys.argv[0] = '\"'\"'C:\\\\Users\\\\MYPC\\\\AppData\\\\Local\\\\Temp\\\\pip-install-qvjkej05\\\\sklearn_5b62171b339d425a8f6a7b352c443329\\\\setup.py'\"'\"'; __file__='\"'\"'C:\\\\Users\\\\MYPC\\\\AppData\\\\Local\\\\Temp\\\\pip-install-qvjkej05\\\\sklearn_5b62171b339d425a8f6a7b352c443329\\\\setup.py'\"'\"';f = getattr(tokenize, '\"'\"'open'\"'\"', open)(__file__) if os.path.exists(__file__) else io.StringIO('\"'\"'from setuptools import setup; setup()'\"'\"');code = f.read().replace('\"'\"'\\r\\n'\"'\"', '\"'\"'\\n'\"'\"');f.close();exec(compile(code, __file__, '\"'\"'exec'\"'\"'))' egg_info --egg-base 'C:\\Users\\MYPC\\AppData\\Local\\Temp\\pip-pip-egg-info-t1senkms'\n",
      "         cwd: C:\\Users\\MYPC\\AppData\\Local\\Temp\\pip-install-qvjkej05\\sklearn_5b62171b339d425a8f6a7b352c443329\\\n",
      "    Complete output (18 lines):\n",
      "    The 'sklearn' PyPI package is deprecated, use 'scikit-learn'\n",
      "    rather than 'sklearn' for pip commands.\n",
      "    \n",
      "    Here is how to fix this error in the main use cases:\n",
      "    - use 'pip install scikit-learn' rather than 'pip install sklearn'\n",
      "    - replace 'sklearn' by 'scikit-learn' in your pip requirements files\n",
      "      (requirements.txt, setup.py, setup.cfg, Pipfile, etc ...)\n",
      "    - if the 'sklearn' package is used by one of your dependencies,\n",
      "      it would be great if you take some time to track which package uses\n",
      "      'sklearn' instead of 'scikit-learn' and report it to their issue tracker\n",
      "    - as a last resort, set the environment variable\n",
      "      SKLEARN_ALLOW_DEPRECATED_SKLEARN_PACKAGE_INSTALL=True to avoid this error\n",
      "    \n",
      "    More information is available at\n",
      "    https://github.com/scikit-learn/sklearn-pypi-package\n",
      "    \n",
      "    If the previous advice does not cover your use case, feel free to report it at\n",
      "    https://github.com/scikit-learn/sklearn-pypi-package/issues/new\n",
      "    ----------------------------------------\n",
      "WARNING: Discarding https://files.pythonhosted.org/packages/70/ce/81aa643f3c43488c4a1e417e45f696a61e7ac82b57190fad3c310df2c07b/sklearn-0.0.post7.tar.gz#sha256=1c89020b364fdc3aa2839e0ae34e8f0b406669e4b5c2359dda3ac398f9c76874 (from https://pypi.org/simple/sklearn/). Command errored out with exit status 1: python setup.py egg_info Check the logs for full command output.\n",
      "    ERROR: Command errored out with exit status 1:\n",
      "     command: 'c:\\Users\\MYPC\\.conda\\envs\\youtube_env\\python.exe' -c 'import io, os, sys, setuptools, tokenize; sys.argv[0] = '\"'\"'C:\\\\Users\\\\MYPC\\\\AppData\\\\Local\\\\Temp\\\\pip-install-qvjkej05\\\\sklearn_1a5191ab8e98438ca0481c45e4089e37\\\\setup.py'\"'\"'; __file__='\"'\"'C:\\\\Users\\\\MYPC\\\\AppData\\\\Local\\\\Temp\\\\pip-install-qvjkej05\\\\sklearn_1a5191ab8e98438ca0481c45e4089e37\\\\setup.py'\"'\"';f = getattr(tokenize, '\"'\"'open'\"'\"', open)(__file__) if os.path.exists(__file__) else io.StringIO('\"'\"'from setuptools import setup; setup()'\"'\"');code = f.read().replace('\"'\"'\\r\\n'\"'\"', '\"'\"'\\n'\"'\"');f.close();exec(compile(code, __file__, '\"'\"'exec'\"'\"'))' egg_info --egg-base 'C:\\Users\\MYPC\\AppData\\Local\\Temp\\pip-pip-egg-info-ingheo6_'\n",
      "         cwd: C:\\Users\\MYPC\\AppData\\Local\\Temp\\pip-install-qvjkej05\\sklearn_1a5191ab8e98438ca0481c45e4089e37\\\n"
     ]
    },
    {
     "name": "stderr",
     "output_type": "stream",
     "text": [
      "    Complete output (18 lines):\n",
      "    The 'sklearn' PyPI package is deprecated, use 'scikit-learn'\n",
      "    rather than 'sklearn' for pip commands.\n",
      "    \n",
      "    Here is how to fix this error in the main use cases:\n",
      "    - use 'pip install scikit-learn' rather than 'pip install sklearn'\n",
      "    - replace 'sklearn' by 'scikit-learn' in your pip requirements files\n",
      "      (requirements.txt, setup.py, setup.cfg, Pipfile, etc ...)\n",
      "    - if the 'sklearn' package is used by one of your dependencies,\n",
      "      it would be great if you take some time to track which package uses\n",
      "      'sklearn' instead of 'scikit-learn' and report it to their issue tracker\n",
      "    - as a last resort, set the environment variable\n",
      "      SKLEARN_ALLOW_DEPRECATED_SKLEARN_PACKAGE_INSTALL=True to avoid this error\n",
      "    \n",
      "    More information is available at\n",
      "    https://github.com/scikit-learn/sklearn-pypi-package\n",
      "    \n",
      "    If the previous advice does not cover your use case, feel free to report it at\n",
      "    https://github.com/scikit-learn/sklearn-pypi-package/issues/new\n",
      "    ----------------------------------------\n",
      "WARNING: Discarding https://files.pythonhosted.org/packages/7a/93/e0e1b1e98f39dfca7ec9795cb46f6e09e88a2fd5d4a28e4b3d1f618a2aec/sklearn-0.0.post5.tar.gz#sha256=7377c714a03a79bbe9196f435db931fd2a6fa8c68514da7ed3a251fd08c52e2c (from https://pypi.org/simple/sklearn/). Command errored out with exit status 1: python setup.py egg_info Check the logs for full command output.\n",
      "    ERROR: Command errored out with exit status 1:\n",
      "     command: 'c:\\Users\\MYPC\\.conda\\envs\\youtube_env\\python.exe' -c 'import io, os, sys, setuptools, tokenize; sys.argv[0] = '\"'\"'C:\\\\Users\\\\MYPC\\\\AppData\\\\Local\\\\Temp\\\\pip-install-qvjkej05\\\\sklearn_ea47edfbe5ce4681ae4af56bfce8b6ad\\\\setup.py'\"'\"'; __file__='\"'\"'C:\\\\Users\\\\MYPC\\\\AppData\\\\Local\\\\Temp\\\\pip-install-qvjkej05\\\\sklearn_ea47edfbe5ce4681ae4af56bfce8b6ad\\\\setup.py'\"'\"';f = getattr(tokenize, '\"'\"'open'\"'\"', open)(__file__) if os.path.exists(__file__) else io.StringIO('\"'\"'from setuptools import setup; setup()'\"'\"');code = f.read().replace('\"'\"'\\r\\n'\"'\"', '\"'\"'\\n'\"'\"');f.close();exec(compile(code, __file__, '\"'\"'exec'\"'\"'))' egg_info --egg-base 'C:\\Users\\MYPC\\AppData\\Local\\Temp\\pip-pip-egg-info-xibsoard'\n",
      "         cwd: C:\\Users\\MYPC\\AppData\\Local\\Temp\\pip-install-qvjkej05\\sklearn_ea47edfbe5ce4681ae4af56bfce8b6ad\\\n",
      "    Complete output (7 lines):\n",
      "    Traceback (most recent call last):\n",
      "      File \"<string>\", line 1, in <module>\n",
      "      File \"C:\\Users\\MYPC\\AppData\\Local\\Temp\\pip-install-qvjkej05\\sklearn_ea47edfbe5ce4681ae4af56bfce8b6ad\\setup.py\", line 10, in <module>\n",
      "        LONG_DESCRIPTION = f.read()\n",
      "      File \"c:\\Users\\MYPC\\.conda\\envs\\youtube_env\\lib\\encodings\\cp1252.py\", line 23, in decode\n",
      "        return codecs.charmap_decode(input,self.errors,decoding_table)[0]\n",
      "    UnicodeDecodeError: 'charmap' codec can't decode byte 0x8f in position 7: character maps to <undefined>\n",
      "    ----------------------------------------\n",
      "WARNING: Discarding https://files.pythonhosted.org/packages/99/b2/165110013aa66fae6fc13918ad0e9de4801e5f1691d371bf8b63328037e6/sklearn-0.0.post4.tar.gz#sha256=0e81ec9c32d4bb418e7be8f1ec1027d174975502dc84cbc4f4564b4cba31e674 (from https://pypi.org/simple/sklearn/). Command errored out with exit status 1: python setup.py egg_info Check the logs for full command output.\n",
      "    ERROR: Command errored out with exit status 1:\n",
      "     command: 'c:\\Users\\MYPC\\.conda\\envs\\youtube_env\\python.exe' -c 'import io, os, sys, setuptools, tokenize; sys.argv[0] = '\"'\"'C:\\\\Users\\\\MYPC\\\\AppData\\\\Local\\\\Temp\\\\pip-install-qvjkej05\\\\sklearn_3ef0aba95dda4b6896f5ab4a9b022d88\\\\setup.py'\"'\"'; __file__='\"'\"'C:\\\\Users\\\\MYPC\\\\AppData\\\\Local\\\\Temp\\\\pip-install-qvjkej05\\\\sklearn_3ef0aba95dda4b6896f5ab4a9b022d88\\\\setup.py'\"'\"';f = getattr(tokenize, '\"'\"'open'\"'\"', open)(__file__) if os.path.exists(__file__) else io.StringIO('\"'\"'from setuptools import setup; setup()'\"'\"');code = f.read().replace('\"'\"'\\r\\n'\"'\"', '\"'\"'\\n'\"'\"');f.close();exec(compile(code, __file__, '\"'\"'exec'\"'\"'))' egg_info --egg-base 'C:\\Users\\MYPC\\AppData\\Local\\Temp\\pip-pip-egg-info-8s59grow'\n",
      "         cwd: C:\\Users\\MYPC\\AppData\\Local\\Temp\\pip-install-qvjkej05\\sklearn_3ef0aba95dda4b6896f5ab4a9b022d88\\\n",
      "    Complete output (18 lines):\n",
      "    The 'sklearn' PyPI package is deprecated, use 'scikit-learn'\n",
      "    rather than 'sklearn' for pip commands.\n",
      "    \n",
      "    Here is how to fix this error in the main use cases:\n",
      "    - use 'pip install scikit-learn' rather than 'pip install sklearn'\n",
      "    - replace 'sklearn' by 'scikit-learn' in your pip requirements files\n",
      "      (requirements.txt, setup.py, setup.cfg, Pipfile, etc ...)\n",
      "    - if the 'sklearn' package is used by one of your dependencies,\n",
      "      it would be great if you take some time to track which package uses\n",
      "      'sklearn' instead of 'scikit-learn' and report it to their issue tracker\n",
      "    - as a last resort, set the environment variable\n",
      "      SKLEARN_ALLOW_DEPRECATED_SKLEARN_PACKAGE_INSTALL=True to avoid this error\n",
      "    \n",
      "    More information is available at\n",
      "    https://github.com/scikit-learn/sklearn-pypi-package\n",
      "    \n",
      "    If the previous advice does not cover your use case, feel free to report it at\n",
      "    https://github.com/scikit-learn/sklearn-pypi-package/issues/new\n",
      "    ----------------------------------------\n",
      "WARNING: Discarding https://files.pythonhosted.org/packages/db/1e/af4e9cded5093a92e60d4ae7149a02c7427661b2db66c8ea4d34b17864a2/sklearn-0.0.post1.tar.gz#sha256=76b9ed1623775168657b86b5fe966d45752e5c87f528de6240c38923b94147c5 (from https://pypi.org/simple/sklearn/). Command errored out with exit status 1: python setup.py egg_info Check the logs for full command output.\n"
     ]
    }
   ],
   "source": [
    "pip install sklearn"
   ]
  },
  {
   "cell_type": "code",
   "execution_count": 9,
   "metadata": {},
   "outputs": [
    {
     "name": "stdout",
     "output_type": "stream",
     "text": [
      "Collecting surprise\n",
      "  Downloading surprise-0.1-py2.py3-none-any.whl (1.8 kB)\n",
      "Collecting scikit-surprise\n",
      "  Downloading scikit-surprise-1.1.1.tar.gz (11.8 MB)\n",
      "Requirement already satisfied: joblib>=0.11 in c:\\users\\mypc\\.conda\\envs\\youtube_env\\lib\\site-packages (from scikit-surprise->surprise) (1.1.1)\n",
      "Requirement already satisfied: numpy>=1.11.2 in c:\\users\\mypc\\.conda\\envs\\youtube_env\\lib\\site-packages (from scikit-surprise->surprise) (1.19.5)\n",
      "Requirement already satisfied: scipy>=1.0.0 in c:\\users\\mypc\\.conda\\envs\\youtube_env\\lib\\site-packages (from scikit-surprise->surprise) (1.5.4)\n",
      "Requirement already satisfied: six>=1.10.0 in c:\\users\\mypc\\.conda\\envs\\youtube_env\\lib\\site-packages (from scikit-surprise->surprise) (1.16.0)\n",
      "Building wheels for collected packages: scikit-surprise\n",
      "  Building wheel for scikit-surprise (setup.py): started\n",
      "  Building wheel for scikit-surprise (setup.py): finished with status 'done'\n",
      "  Created wheel for scikit-surprise: filename=scikit_surprise-1.1.1-cp36-cp36m-win_amd64.whl size=733595 sha256=7345ab3a2d09270767b5f3a7fe29aad8c4966784ed43085bf557103828fc54ab\n",
      "  Stored in directory: c:\\users\\mypc\\appdata\\local\\pip\\cache\\wheels\\de\\9a\\41\\6a57bf37eb7b50de7f8c7ca9d7053bebe0ea7c7c9bae9fa293\n",
      "Successfully built scikit-surprise\n",
      "Installing collected packages: scikit-surprise, surprise\n",
      "Successfully installed scikit-surprise-1.1.1 surprise-0.1\n",
      "Note: you may need to restart the kernel to use updated packages.\n"
     ]
    }
   ],
   "source": [
    "pip install surprise"
   ]
  },
  {
   "cell_type": "code",
   "execution_count": 16,
   "metadata": {},
   "outputs": [
    {
     "name": "stdout",
     "output_type": "stream",
     "text": [
      "Start\n",
      "[['funny_story', 'good_story', 'funny_remark', 'funny'], ['amusing', 'comic', 'comical', 'funny', 'laughable', 'mirthful', 'risible'], ['curious', 'funny', 'odd', 'peculiar', 'queer', 'rum', 'rummy', 'singular'], ['fishy', 'funny', 'shady', 'suspect', 'suspicious'], ['funny']]\n"
     ]
    }
   ],
   "source": [
    "print(\"Start\")\n",
    "\n",
    "listnames  = [j.lemma_names() for j in wn.synsets('funny')]\n",
    "print(listnames)"
   ]
  },
  {
   "cell_type": "code",
   "execution_count": 12,
   "metadata": {},
   "outputs": [
    {
     "name": "stderr",
     "output_type": "stream",
     "text": [
      "[nltk_data] Downloading package omw-1.4 to\n",
      "[nltk_data]     C:\\Users\\MYPC\\AppData\\Roaming\\nltk_data...\n"
     ]
    },
    {
     "data": {
      "text/plain": [
       "True"
      ]
     },
     "execution_count": 12,
     "metadata": {},
     "output_type": "execute_result"
    }
   ],
   "source": [
    "import nltk\n",
    "nltk.download('omw-1.4')"
   ]
  },
  {
   "cell_type": "code",
   "execution_count": 14,
   "metadata": {},
   "outputs": [
    {
     "name": "stdout",
     "output_type": "stream",
     "text": [
      "<WordNetCorpusReader in 'C:\\\\Users\\\\MYPC\\\\AppData\\\\Roaming\\\\nltk_data\\\\corpora\\\\wordnet.zip/wordnet/'>\n"
     ]
    }
   ],
   "source": [
    "print(wn)"
   ]
  },
  {
   "cell_type": "code",
   "execution_count": 18,
   "metadata": {},
   "outputs": [],
   "source": [
    "df = pd.read_csv('users5times100Videos.csv',encoding='utf-8')\n",
    "df = df.drop_duplicates(['v_title'])\n",
    "df = shuffle(df)"
   ]
  },
  {
   "cell_type": "code",
   "execution_count": 19,
   "metadata": {},
   "outputs": [
    {
     "name": "stdout",
     "output_type": "stream",
     "text": [
      "Index(['users', 'v_title', 'Liked'], dtype='object')\n"
     ]
    }
   ],
   "source": [
    "print(df.columns)"
   ]
  },
  {
   "cell_type": "code",
   "execution_count": 20,
   "metadata": {},
   "outputs": [],
   "source": [
    "df = df[['users','v_title','Liked']]"
   ]
  },
  {
   "cell_type": "code",
   "execution_count": 21,
   "metadata": {},
   "outputs": [],
   "source": [
    "reader = Reader(rating_scale=(0,1))\n",
    "data = Dataset.load_from_df(df[['users','v_title','Liked']],reader)"
   ]
  },
  {
   "cell_type": "code",
   "execution_count": 23,
   "metadata": {},
   "outputs": [
    {
     "name": "stdout",
     "output_type": "stream",
     "text": [
      "     users                                            v_title  Liked\n",
      "35  Kathir  Try Not To Laugh Funny Animals Vines - Best Vi...      0\n",
      "75  Kathir  👑 Tying Peoples Shoes and Stealing their Stuff...      1\n",
      "73  Kathir      Old Man Street Workout Prank | Muscle Madness      1\n",
      "21  Kathir  TRY NOT TO LAUGH or GRIN: Funny Fails Vines Co...      0\n",
      "42  Kathir  TRY NOT TO LAUGH or GRIN: Funny Kids Fails Com...      1\n"
     ]
    }
   ],
   "source": [
    "data_df = df[['users', 'v_title', 'Liked']]\n",
    "print(data_df.head())"
   ]
  },
  {
   "cell_type": "code",
   "execution_count": 24,
   "metadata": {},
   "outputs": [],
   "source": [
    "trainset,testset = train_test_split(data,test_size=0.2, random_state=42)"
   ]
  },
  {
   "cell_type": "code",
   "execution_count": 26,
   "metadata": {},
   "outputs": [
    {
     "data": {
      "text/plain": [
       "<surprise.prediction_algorithms.matrix_factorization.SVD at 0x26c251459e8>"
      ]
     },
     "execution_count": 26,
     "metadata": {},
     "output_type": "execute_result"
    }
   ],
   "source": [
    "model = SVD()\n",
    "model.fit(trainset)"
   ]
  },
  {
   "cell_type": "code",
   "execution_count": 27,
   "metadata": {},
   "outputs": [
    {
     "name": "stdout",
     "output_type": "stream",
     "text": [
      "RMSE: 0.5153\n"
     ]
    },
    {
     "data": {
      "text/plain": [
       "0.5153214484382336"
      ]
     },
     "execution_count": 27,
     "metadata": {},
     "output_type": "execute_result"
    }
   ],
   "source": [
    "predictions = model.test(testset)\n",
    "accuracy.rmse(predictions)"
   ]
  },
  {
   "cell_type": "code",
   "execution_count": 28,
   "metadata": {},
   "outputs": [],
   "source": [
    "user_names = ['Kathir', 'MSD', 'MarkZ', 'Chris', 'Sundhar', 'Patrick']"
   ]
  },
  {
   "cell_type": "code",
   "execution_count": 29,
   "metadata": {},
   "outputs": [],
   "source": [
    "def get_top_recommandations(user_id, model,df,n=10):\n",
    "    all_items = df['v_title'].unique()\n",
    "    rated_items = df[df['users']==user_id]['v_title'].tolist()\n",
    "    items_to_predict = [item for item in all_items if item not in rated_items]\n",
    "    predictions = [model.predict(user_id, item) for item in items_to_predict]\n",
    "    top_n = sorted(predictions, key = lambda x: x.est, reverse=True)[:n]\n",
    "    return [(pred.iid, round(pred.est,2)) for pred in top_n]"
   ]
  },
  {
   "cell_type": "code",
   "execution_count": 30,
   "metadata": {},
   "outputs": [
    {
     "name": "stdout",
     "output_type": "stream",
     "text": [
      "\n",
      " Top recommandations for Kathir:\n",
      "\n",
      " Top recommandations for MSD:\n",
      "Wanna LAUGH LIKE HELL, WATCH THIS! - Super FUNNY MOMENTS & FAILS compilation (Predicted Score:0.53)\n",
      "Killer Clown 9 Scare Prank - Shadow Plays (Predicted Score:0.52)\n",
      "TRY NOT TO LAUGH or GRIN: Funny Kids Fails Compilation 2017 | Best Funny Kids Videos May 2017 (Predicted Score:0.52)\n",
      "TRY NOT TO LAUGH or GRIN - Funny Fails Compilation 2017 (Predicted Score:0.52)\n",
      "Kpop Try Not To Laugh Challenge #8 (Predicted Score:0.52)\n",
      "HARDEST VERSION AFV Try Not to Laugh or Grin While Watching Funniest Vines of best funny videos 2017 (Predicted Score:0.52)\n",
      "TRY NOT TO LAUGH or GRIN: Funny Pranks Vines Compilation 2017 | Best Pranks Vines May 2017 (Predicted Score:0.52)\n",
      "TRY NOT TO LAUGH or GRIN: DeStorm Power Vines - Funny Vines Compilation 2017 | Life Awesome (Predicted Score:0.52)\n",
      "Try Not To Laugh Challenge #4 (Predicted Score:0.52)\n",
      "Bought Fake Louis Vuitton Prank/Gold Digger Test! (Predicted Score:0.52)\n",
      "\n",
      " Top recommandations for MarkZ:\n",
      "Wanna LAUGH LIKE HELL, WATCH THIS! - Super FUNNY MOMENTS & FAILS compilation (Predicted Score:0.53)\n",
      "Killer Clown 9 Scare Prank - Shadow Plays (Predicted Score:0.52)\n",
      "TRY NOT TO LAUGH or GRIN: Funny Kids Fails Compilation 2017 | Best Funny Kids Videos May 2017 (Predicted Score:0.52)\n",
      "TRY NOT TO LAUGH or GRIN - Funny Fails Compilation 2017 (Predicted Score:0.52)\n",
      "Kpop Try Not To Laugh Challenge #8 (Predicted Score:0.52)\n",
      "HARDEST VERSION AFV Try Not to Laugh or Grin While Watching Funniest Vines of best funny videos 2017 (Predicted Score:0.52)\n",
      "TRY NOT TO LAUGH or GRIN: Funny Pranks Vines Compilation 2017 | Best Pranks Vines May 2017 (Predicted Score:0.52)\n",
      "TRY NOT TO LAUGH or GRIN: DeStorm Power Vines - Funny Vines Compilation 2017 | Life Awesome (Predicted Score:0.52)\n",
      "Try Not To Laugh Challenge #4 (Predicted Score:0.52)\n",
      "Bought Fake Louis Vuitton Prank/Gold Digger Test! (Predicted Score:0.52)\n",
      "\n",
      " Top recommandations for Chris:\n",
      "Wanna LAUGH LIKE HELL, WATCH THIS! - Super FUNNY MOMENTS & FAILS compilation (Predicted Score:0.53)\n",
      "Killer Clown 9 Scare Prank - Shadow Plays (Predicted Score:0.52)\n",
      "TRY NOT TO LAUGH or GRIN: Funny Kids Fails Compilation 2017 | Best Funny Kids Videos May 2017 (Predicted Score:0.52)\n",
      "TRY NOT TO LAUGH or GRIN - Funny Fails Compilation 2017 (Predicted Score:0.52)\n",
      "Kpop Try Not To Laugh Challenge #8 (Predicted Score:0.52)\n",
      "HARDEST VERSION AFV Try Not to Laugh or Grin While Watching Funniest Vines of best funny videos 2017 (Predicted Score:0.52)\n",
      "TRY NOT TO LAUGH or GRIN: Funny Pranks Vines Compilation 2017 | Best Pranks Vines May 2017 (Predicted Score:0.52)\n",
      "TRY NOT TO LAUGH or GRIN: DeStorm Power Vines - Funny Vines Compilation 2017 | Life Awesome (Predicted Score:0.52)\n",
      "Try Not To Laugh Challenge #4 (Predicted Score:0.52)\n",
      "Bought Fake Louis Vuitton Prank/Gold Digger Test! (Predicted Score:0.52)\n",
      "\n",
      " Top recommandations for Sundhar:\n",
      "Wanna LAUGH LIKE HELL, WATCH THIS! - Super FUNNY MOMENTS & FAILS compilation (Predicted Score:0.53)\n",
      "Killer Clown 9 Scare Prank - Shadow Plays (Predicted Score:0.52)\n",
      "TRY NOT TO LAUGH or GRIN: Funny Kids Fails Compilation 2017 | Best Funny Kids Videos May 2017 (Predicted Score:0.52)\n",
      "TRY NOT TO LAUGH or GRIN - Funny Fails Compilation 2017 (Predicted Score:0.52)\n",
      "Kpop Try Not To Laugh Challenge #8 (Predicted Score:0.52)\n",
      "HARDEST VERSION AFV Try Not to Laugh or Grin While Watching Funniest Vines of best funny videos 2017 (Predicted Score:0.52)\n",
      "TRY NOT TO LAUGH or GRIN: Funny Pranks Vines Compilation 2017 | Best Pranks Vines May 2017 (Predicted Score:0.52)\n",
      "TRY NOT TO LAUGH or GRIN: DeStorm Power Vines - Funny Vines Compilation 2017 | Life Awesome (Predicted Score:0.52)\n",
      "Try Not To Laugh Challenge #4 (Predicted Score:0.52)\n",
      "Bought Fake Louis Vuitton Prank/Gold Digger Test! (Predicted Score:0.52)\n",
      "\n",
      " Top recommandations for Patrick:\n",
      "Wanna LAUGH LIKE HELL, WATCH THIS! - Super FUNNY MOMENTS & FAILS compilation (Predicted Score:0.53)\n",
      "Killer Clown 9 Scare Prank - Shadow Plays (Predicted Score:0.52)\n",
      "TRY NOT TO LAUGH or GRIN: Funny Kids Fails Compilation 2017 | Best Funny Kids Videos May 2017 (Predicted Score:0.52)\n",
      "TRY NOT TO LAUGH or GRIN - Funny Fails Compilation 2017 (Predicted Score:0.52)\n",
      "Kpop Try Not To Laugh Challenge #8 (Predicted Score:0.52)\n",
      "HARDEST VERSION AFV Try Not to Laugh or Grin While Watching Funniest Vines of best funny videos 2017 (Predicted Score:0.52)\n",
      "TRY NOT TO LAUGH or GRIN: Funny Pranks Vines Compilation 2017 | Best Pranks Vines May 2017 (Predicted Score:0.52)\n",
      "TRY NOT TO LAUGH or GRIN: DeStorm Power Vines - Funny Vines Compilation 2017 | Life Awesome (Predicted Score:0.52)\n",
      "Try Not To Laugh Challenge #4 (Predicted Score:0.52)\n",
      "Bought Fake Louis Vuitton Prank/Gold Digger Test! (Predicted Score:0.52)\n"
     ]
    }
   ],
   "source": [
    "for user in user_names:\n",
    "    recs = get_top_recommandations(user,model,df)\n",
    "    print(f\"\\n Top recommandations for {user}:\")\n",
    "    for item, score in recs:\n",
    "        print(f\"{item} (Predicted Score:{score})\")"
   ]
  },
  {
   "cell_type": "code",
   "execution_count": null,
   "metadata": {},
   "outputs": [],
   "source": []
  }
 ],
 "metadata": {
  "kernelspec": {
   "display_name": "youtube_env",
   "language": "python",
   "name": "python3"
  },
  "language_info": {
   "codemirror_mode": {
    "name": "ipython",
    "version": 3
   },
   "file_extension": ".py",
   "mimetype": "text/x-python",
   "name": "python",
   "nbconvert_exporter": "python",
   "pygments_lexer": "ipython3",
   "version": "3.6.13"
  }
 },
 "nbformat": 4,
 "nbformat_minor": 2
}
